{
 "cells": [
  {
   "cell_type": "code",
   "execution_count": 1,
   "metadata": {},
   "outputs": [],
   "source": [
    "import torch\n",
    "import torchvision\n",
    "import torchtext\n",
    "import numpy as np\n",
    "from torchvision import transforms\n",
    "from torch.utils.data import DataLoader, Dataset\n",
    "import pandas as pd\n",
    "\n",
    "np.random.seed(42)"
   ]
  },
  {
   "cell_type": "code",
   "execution_count": 2,
   "metadata": {},
   "outputs": [],
   "source": [
    "device = torch.device(\"cuda\" if torch.cuda.is_available() else \"cpu\")"
   ]
  },
  {
   "cell_type": "code",
   "execution_count": 3,
   "metadata": {},
   "outputs": [
    {
     "data": {
      "text/html": [
       "<div>\n",
       "<style scoped>\n",
       "    .dataframe tbody tr th:only-of-type {\n",
       "        vertical-align: middle;\n",
       "    }\n",
       "\n",
       "    .dataframe tbody tr th {\n",
       "        vertical-align: top;\n",
       "    }\n",
       "\n",
       "    .dataframe thead th {\n",
       "        text-align: right;\n",
       "    }\n",
       "</style>\n",
       "<table border=\"1\" class=\"dataframe\">\n",
       "  <thead>\n",
       "    <tr style=\"text-align: right;\">\n",
       "      <th></th>\n",
       "      <th>review</th>\n",
       "      <th>sentiment</th>\n",
       "    </tr>\n",
       "  </thead>\n",
       "  <tbody>\n",
       "    <tr>\n",
       "      <th>0</th>\n",
       "      <td>One of the other reviewers has mentioned that ...</td>\n",
       "      <td>positive</td>\n",
       "    </tr>\n",
       "    <tr>\n",
       "      <th>1</th>\n",
       "      <td>A wonderful little production. &lt;br /&gt;&lt;br /&gt;The...</td>\n",
       "      <td>positive</td>\n",
       "    </tr>\n",
       "    <tr>\n",
       "      <th>2</th>\n",
       "      <td>I thought this was a wonderful way to spend ti...</td>\n",
       "      <td>positive</td>\n",
       "    </tr>\n",
       "    <tr>\n",
       "      <th>3</th>\n",
       "      <td>Basically there's a family where a little boy ...</td>\n",
       "      <td>negative</td>\n",
       "    </tr>\n",
       "    <tr>\n",
       "      <th>4</th>\n",
       "      <td>Petter Mattei's \"Love in the Time of Money\" is...</td>\n",
       "      <td>positive</td>\n",
       "    </tr>\n",
       "  </tbody>\n",
       "</table>\n",
       "</div>"
      ],
      "text/plain": [
       "                                              review sentiment\n",
       "0  One of the other reviewers has mentioned that ...  positive\n",
       "1  A wonderful little production. <br /><br />The...  positive\n",
       "2  I thought this was a wonderful way to spend ti...  positive\n",
       "3  Basically there's a family where a little boy ...  negative\n",
       "4  Petter Mattei's \"Love in the Time of Money\" is...  positive"
      ]
     },
     "execution_count": 3,
     "metadata": {},
     "output_type": "execute_result"
    }
   ],
   "source": [
    "data = pd.read_csv(\"IMDB Dataset.csv\")\n",
    "data.head()"
   ]
  },
  {
   "cell_type": "code",
   "execution_count": 4,
   "metadata": {},
   "outputs": [
    {
     "name": "stdout",
     "output_type": "stream",
     "text": [
      "<class 'pandas.core.frame.DataFrame'>\n",
      "RangeIndex: 50000 entries, 0 to 49999\n",
      "Data columns (total 2 columns):\n",
      " #   Column     Non-Null Count  Dtype \n",
      "---  ------     --------------  ----- \n",
      " 0   review     50000 non-null  object\n",
      " 1   sentiment  50000 non-null  object\n",
      "dtypes: object(2)\n",
      "memory usage: 781.4+ KB\n"
     ]
    }
   ],
   "source": [
    "data.info()"
   ]
  },
  {
   "cell_type": "code",
   "execution_count": 5,
   "metadata": {},
   "outputs": [],
   "source": [
    "data[\"review\"] = data[\"review\"].replace({\"<br /><br />\":\"\"}, regex = True)\n",
    "data[\"sentiment\"].replace({\"negative\":0, \"positive\" : 1}, inplace = True)\n",
    "data[\"sentiment\"] = data[\"sentiment\"].astype(np.int16)"
   ]
  },
  {
   "cell_type": "code",
   "execution_count": 6,
   "metadata": {},
   "outputs": [],
   "source": [
    "from sklearn.model_selection import train_test_split\n",
    "\n",
    "train_set_full, test_set = train_test_split(data, \n",
    "                                            test_size = 0.1, stratify = data[\"sentiment\"], \n",
    "                                            random_state = 42)\n",
    "train_set, valid_set = train_test_split(train_set_full, \n",
    "                                        test_size = 5000, stratify = train_set_full[\"sentiment\"], \n",
    "                                        random_state = 42)"
   ]
  },
  {
   "cell_type": "code",
   "execution_count": 7,
   "metadata": {},
   "outputs": [],
   "source": [
    "tokenizer = torchtext.data.utils.get_tokenizer(\"basic_english\")\n",
    "\n",
    "def generate_tokens(text_data):\n",
    "    for text in text_data:\n",
    "        yield tokenizer(text)"
   ]
  },
  {
   "cell_type": "code",
   "execution_count": 8,
   "metadata": {},
   "outputs": [],
   "source": [
    "vocab_size = 15000\n",
    "\n",
    "vocab = torchtext.vocab.build_vocab_from_iterator(generate_tokens(train_set[\"review\"]), specials = [\"<unk>\"],\n",
    "                                          max_tokens = vocab_size)\n",
    "vocab.set_default_index(vocab[\"<unk>\"])"
   ]
  },
  {
   "cell_type": "code",
   "execution_count": 9,
   "metadata": {},
   "outputs": [],
   "source": [
    "max_length = max(data[\"review\"].apply(lambda x: len(tokenizer(x))))"
   ]
  },
  {
   "cell_type": "code",
   "execution_count": 10,
   "metadata": {},
   "outputs": [],
   "source": [
    "def padding(reviews, tokenizer = tokenizer, vocab = vocab, length = max_length):\n",
    "    reviews = reviews.values\n",
    "    encoded_text = [(vocab(tokenizer(review)).float(), label) for review, label in reviews]\n",
    "    \n",
    "    padded_features = [(torch.nn.functional.pad(torch.tensor(encoded_review),\n",
    "                                   (0, length - len(encoded_review)),\n",
    "                                   mode='constant', \n",
    "                                   value=0), label) for encoded_review, label in encoded_text]\n",
    "    return padded_features"
   ]
  },
  {
   "cell_type": "code",
   "execution_count": 11,
   "metadata": {},
   "outputs": [],
   "source": [
    "class MovieDataset(Dataset):\n",
    "    def __init__(self, text_data, vocab, tokenizer, length):\n",
    "        text_data = text_data.values\n",
    "        encoded_text = [(vocab(tokenizer(review)), label) for review, label in text_data]\n",
    "        padded_features = [(torch.nn.functional.pad(torch.tensor(review),\n",
    "                                   (0, length - len(review)), \n",
    "                                   mode='constant', \n",
    "                                   value=0), label) for review, label in encoded_text]\n",
    "        self.encoded_text = padded_features\n",
    "        \n",
    "    def __len__(self):\n",
    "        return len(self.encoded_text)\n",
    "    \n",
    "    def __getitem__(self, idx):\n",
    "        seq = self.encoded_text[idx][0]\n",
    "        target_sentiment = self.encoded_text[idx][1] \n",
    "        return seq.clone().detach(), target_sentiment"
   ]
  },
  {
   "cell_type": "code",
   "execution_count": 12,
   "metadata": {},
   "outputs": [],
   "source": [
    "batch_size = 32\n",
    "\n",
    "train_loader = DataLoader(MovieDataset(train_set, vocab, tokenizer, max_length), \n",
    "                          batch_size = batch_size, shuffle = True)\n",
    "valid_loader = DataLoader(MovieDataset(valid_set, vocab, tokenizer, max_length), batch_size = batch_size, shuffle = True)\n",
    "test_loader = DataLoader(MovieDataset(test_set, vocab, tokenizer, max_length), batch_size = batch_size, shuffle = True)"
   ]
  },
  {
   "cell_type": "code",
   "execution_count": 13,
   "metadata": {},
   "outputs": [],
   "source": [
    "import math\n",
    "\n",
    "class PositionalEncoder(torch.nn.Module):\n",
    "    def __init__(self, max_length, embed_size, dtype = np.float32):\n",
    "        super().__init__()\n",
    "        self.dropout = torch.nn.Dropout(0.2)\n",
    "        assert embed_size % 2 == 0, \"even size required\"\n",
    "        \n",
    "        p, i = torch.meshgrid(2 * torch.arange(embed_size // 2), torch.arange(max_length), \n",
    "                              indexing = \"ij\")\n",
    "        pos_embed = torch.empty(1, max_length, embed_size)\n",
    "        pos_embed[0, :, ::2] = torch.sin(p / 10000 ** (i / embed_size)).T\n",
    "        pos_embed[0, :, 1::2] = torch.cos(p / 10000 ** (i / embed_size)).T\n",
    "        self.register_buffer(\"pos_embed\", pos_embed)\n",
    "        \n",
    "    def forward(self, x):\n",
    "        x = x + self.pos_embed[:x.size(0)]\n",
    "        return self.dropout(x)"
   ]
  },
  {
   "cell_type": "code",
   "execution_count": 14,
   "metadata": {},
   "outputs": [],
   "source": [
    "class TransformerEncoder(torch.nn.Module):\n",
    "    def __init__(self, vocab_size, max_length, embed_size):\n",
    "        super().__init__()\n",
    "        self.embedding = torch.nn.Sequential(\n",
    "            torch.nn.Embedding(vocab_size, embed_size),\n",
    "            PositionalEncoder(max_length, embed_size)\n",
    "        )\n",
    "        self.multihead = torch.nn.MultiheadAttention(embed_size, 1, dropout = 0.2, batch_first = True)\n",
    "        self.FeedForward = torch.nn.Sequential(\n",
    "            torch.nn.Linear(embed_size, 128),\n",
    "            torch.nn.ReLU(),\n",
    "            torch.nn.Dropout(0.3),\n",
    "            torch.nn.Linear(128, embed_size),\n",
    "            torch.nn.Dropout(0.4) \n",
    "        )\n",
    "        self.layer_norm1 = torch.nn.LayerNorm(embed_size)\n",
    "        self.layer_norm2 = torch.nn.LayerNorm(embed_size)\n",
    "        self.Classification = torch.nn.Sequential(\n",
    "            torch.nn.Linear(embed_size, 128),\n",
    "            torch.nn.ReLU(),\n",
    "            torch.nn.Dropout(0.3),\n",
    "            torch.nn.Linear(128, 1),\n",
    "        )\n",
    "        \n",
    "    def forward(self, x):\n",
    "        mask = torch.not_equal(x, 0)\n",
    "        x = self.embedding(x)\n",
    "        skip = x\n",
    "        x, _ = self.multihead(x, x, x, key_padding_mask = mask)\n",
    "        x = torch.add(x, skip)\n",
    "        x = self.layer_norm1(x)\n",
    "        skip = x\n",
    "        x = self.FeedForward(x)\n",
    "        x = torch.add(x, skip)\n",
    "        x = self.layer_norm2(x)\n",
    "        x = x.mean(dim = 1)\n",
    "        x = self.Classification(x)\n",
    "        return x.squeeze()"
   ]
  },
  {
   "cell_type": "code",
   "execution_count": 15,
   "metadata": {},
   "outputs": [],
   "source": [
    "model = TransformerEncoder(vocab_size, max_length, 64)\n",
    "loss_fn = torch.nn.BCEWithLogitsLoss()\n",
    "optimizer = torch.optim.NAdam(model.parameters(), lr = 0.001)\n",
    "model = model.to(device)"
   ]
  },
  {
   "cell_type": "code",
   "execution_count": 16,
   "metadata": {},
   "outputs": [],
   "source": [
    "def train(dataloader, valid_dataloader, model, loss_fn, optimizer, device, function = None):\n",
    "    size = len(dataloader.dataset)\n",
    "    model.train()\n",
    "    train_correct = 0\n",
    "    for batch, (x, y) in enumerate(dataloader):\n",
    "        x, y = x.to(device), y.to(device).float()\n",
    "        pred = model(x)\n",
    "        loss = loss_fn(pred, y)\n",
    "        loss.backward()\n",
    "        optimizer.step()\n",
    "        optimizer.zero_grad()\n",
    "            \n",
    "        train_correct += ((pred > 0.5) == y).type(torch.float).sum().item()\n",
    "        \n",
    "        if batch % 100 == 0:\n",
    "            loss, current = loss.item(), (batch + 1) * len(x)\n",
    "            \n",
    "            print(f\"loss: {loss:>5f}  [{current:>3d}/{size:>3d}]\")\n",
    "    print(f\"Final Training Accuracy: {(100*train_correct / size):>0.1f}%\")\n",
    "    model.eval()\n",
    "    size = len(valid_dataloader.dataset)\n",
    "    num_batches = len(valid_dataloader)\n",
    "    valid_loss, correct = 0, 0\n",
    "    with torch.no_grad():\n",
    "        for x, y in valid_dataloader:\n",
    "            x, y = x.to(device), y.to(device).float()\n",
    "            pred = model(x)\n",
    "            valid_loss += loss_fn(pred, y).item()\n",
    "            correct += ((pred > 0.5) == y).type(torch.float).sum().item()\n",
    "    if function:\n",
    "        function(valid_loss, model)\n",
    "    valid_loss /= num_batches\n",
    "    correct /= size\n",
    "    print(f\"Validation Error: \\n Accuracy: {(100*correct):>0.1f}%, Avg loss: {valid_loss:>8f} \\n\")\n",
    "            \n",
    "    \n",
    "            \n",
    "def test(dataloader, model, loss_fn):\n",
    "    size = len(dataloader.dataset)\n",
    "    num_batches = len(dataloader)\n",
    "    model.eval()\n",
    "    test_loss, correct = 0, 0\n",
    "    with torch.no_grad():\n",
    "        for x, y in dataloader:\n",
    "            x, y = x.to(device), y.to(device).float()\n",
    "            pred = model(x)\n",
    "            test_loss += loss_fn(pred, y).item()\n",
    "            correct += ((pred > 0.5) == y).type(torch.float).sum().item()\n",
    "    test_loss /= num_batches\n",
    "    correct /= size\n",
    "    print(f\"Test Error: \\n Accuracy: {(100*correct):>0.1f}%, Avg loss: {test_loss:>8f} \\n\")"
   ]
  },
  {
   "cell_type": "code",
   "execution_count": 17,
   "metadata": {},
   "outputs": [
    {
     "name": "stdout",
     "output_type": "stream",
     "text": [
      "Epoch 1\n",
      "-------------------------------\n"
     ]
    },
    {
     "name": "stdout",
     "output_type": "stream",
     "text": [
      "loss: 0.743149  [ 32/40000]\n",
      "loss: 0.707331  [3232/40000]\n",
      "loss: 0.679419  [6432/40000]\n",
      "loss: 0.711350  [9632/40000]\n",
      "loss: 0.690282  [12832/40000]\n",
      "loss: 0.711768  [16032/40000]\n",
      "loss: 0.684309  [19232/40000]\n",
      "loss: 0.692820  [22432/40000]\n",
      "loss: 0.694187  [25632/40000]\n",
      "loss: 0.694355  [28832/40000]\n",
      "loss: 0.696410  [32032/40000]\n",
      "loss: 0.692658  [35232/40000]\n",
      "loss: 0.693659  [38432/40000]\n",
      "Final Training Accuracy: 50.0%\n",
      "Validation Error: \n",
      " Accuracy: 50.0%, Avg loss: 0.693188 \n",
      "\n",
      "Epoch 2\n",
      "-------------------------------\n",
      "loss: 0.689916  [ 32/40000]\n",
      "loss: 0.692966  [3232/40000]\n",
      "loss: 0.693243  [6432/40000]\n",
      "loss: 0.693080  [9632/40000]\n",
      "loss: 0.693495  [12832/40000]\n",
      "loss: 0.690400  [16032/40000]\n",
      "loss: 0.693642  [19232/40000]\n",
      "loss: 0.694418  [22432/40000]\n",
      "loss: 0.692810  [25632/40000]\n",
      "loss: 0.692467  [28832/40000]\n",
      "loss: 0.694134  [32032/40000]\n",
      "loss: 0.692762  [35232/40000]\n",
      "loss: 0.688657  [38432/40000]\n",
      "Final Training Accuracy: 50.0%\n",
      "Validation Error: \n",
      " Accuracy: 50.0%, Avg loss: 0.693017 \n",
      "\n",
      "Epoch 3\n",
      "-------------------------------\n",
      "loss: 0.693137  [ 32/40000]\n",
      "loss: 0.705001  [3232/40000]\n",
      "loss: 0.695613  [6432/40000]\n",
      "loss: 0.699906  [9632/40000]\n",
      "loss: 0.693755  [12832/40000]\n",
      "loss: 0.690306  [16032/40000]\n",
      "loss: 0.687185  [19232/40000]\n",
      "loss: 0.687356  [22432/40000]\n",
      "loss: 0.684835  [25632/40000]\n",
      "loss: 0.656843  [28832/40000]\n",
      "loss: 0.612005  [32032/40000]\n",
      "loss: 0.644987  [35232/40000]\n",
      "loss: 0.621124  [38432/40000]\n",
      "Final Training Accuracy: 52.4%\n",
      "Validation Error: \n",
      " Accuracy: 67.7%, Avg loss: 0.556634 \n",
      "\n",
      "Epoch 4\n",
      "-------------------------------\n",
      "loss: 0.559601  [ 32/40000]\n",
      "loss: 0.529777  [3232/40000]\n",
      "loss: 0.772511  [6432/40000]\n",
      "loss: 0.453271  [9632/40000]\n",
      "loss: 0.598975  [12832/40000]\n",
      "loss: 0.461489  [16032/40000]\n",
      "loss: 0.496582  [19232/40000]\n",
      "loss: 0.577571  [22432/40000]\n",
      "loss: 0.518510  [25632/40000]\n",
      "loss: 0.454680  [28832/40000]\n",
      "loss: 0.355137  [32032/40000]\n",
      "loss: 0.326144  [35232/40000]\n",
      "loss: 0.355888  [38432/40000]\n",
      "Final Training Accuracy: 75.5%\n",
      "Validation Error: \n",
      " Accuracy: 81.7%, Avg loss: 0.438846 \n",
      "\n",
      "Epoch 5\n",
      "-------------------------------\n",
      "loss: 0.351750  [ 32/40000]\n",
      "loss: 0.533192  [3232/40000]\n",
      "loss: 0.411288  [6432/40000]\n",
      "loss: 0.376712  [9632/40000]\n",
      "loss: 0.382480  [12832/40000]\n",
      "loss: 0.613576  [16032/40000]\n",
      "loss: 0.244880  [19232/40000]\n",
      "loss: 0.292376  [22432/40000]\n",
      "loss: 0.214971  [25632/40000]\n",
      "loss: 0.256514  [28832/40000]\n",
      "loss: 0.440204  [32032/40000]\n",
      "loss: 0.332070  [35232/40000]\n",
      "loss: 0.317544  [38432/40000]\n",
      "Final Training Accuracy: 83.0%\n",
      "Validation Error: \n",
      " Accuracy: 83.3%, Avg loss: 0.451674 \n",
      "\n"
     ]
    }
   ],
   "source": [
    "epochs = 5\n",
    "for epoch in range(5):\n",
    "    print(f\"Epoch {epoch+1}\\n-------------------------------\")\n",
    "    train(train_loader, valid_loader, model, loss_fn, optimizer, device)"
   ]
  },
  {
   "cell_type": "code",
   "execution_count": 18,
   "metadata": {},
   "outputs": [
    {
     "name": "stdout",
     "output_type": "stream",
     "text": [
      "Test Error: \n",
      " Accuracy: 84.6%, Avg loss: 0.437849 \n",
      "\n"
     ]
    }
   ],
   "source": [
    "test(test_loader, model, loss_fn)"
   ]
  },
  {
   "cell_type": "code",
   "execution_count": 19,
   "metadata": {},
   "outputs": [
    {
     "data": {
      "text/plain": [
       "tensor(True, device='cuda:0')"
      ]
     },
     "execution_count": 19,
     "metadata": {},
     "output_type": "execute_result"
    }
   ],
   "source": [
    "example_pos = \"That was one of the best movies I've ever seen!\"\n",
    "example_pos = torch.nn.functional.pad(torch.tensor(vocab(tokenizer(example_pos))),\n",
    "                                   (0, max_length - len(tokenizer(example_pos))), \n",
    "                                   mode='constant', \n",
    "                                   value=0)\n",
    "model(example_pos.to(device).unsqueeze(0)) > 0.5\n",
    "#True = positive, False = negative"
   ]
  },
  {
   "cell_type": "code",
   "execution_count": 20,
   "metadata": {},
   "outputs": [
    {
     "data": {
      "text/plain": [
       "tensor(False, device='cuda:0')"
      ]
     },
     "execution_count": 20,
     "metadata": {},
     "output_type": "execute_result"
    }
   ],
   "source": [
    "example_neg = \"That movie was horrible. I fell asleep halfway through.\"\n",
    "example_neg = torch.nn.functional.pad(torch.tensor(vocab(tokenizer(example_neg))),\n",
    "                                   (0, max_length - len(tokenizer(example_neg))), \n",
    "                                   mode='constant', \n",
    "                                   value=0)\n",
    "model(example_neg.to(device).unsqueeze(0)) > 0.5"
   ]
  },
  {
   "cell_type": "code",
   "execution_count": 21,
   "metadata": {},
   "outputs": [
    {
     "data": {
      "text/plain": [
       "tensor(False, device='cuda:0')"
      ]
     },
     "execution_count": 21,
     "metadata": {},
     "output_type": "execute_result"
    }
   ],
   "source": [
    "example_neu = \"The movie was okay. I liked the part where the main character saved everyone, but I did start falling asleep.\"\n",
    "example_neu = torch.nn.functional.pad(torch.tensor(vocab(tokenizer(example_neu))),\n",
    "                                   (0, max_length - len(tokenizer(example_neu))), \n",
    "                                   mode='constant', \n",
    "                                   value=0)\n",
    "model(example_neu.to(device).unsqueeze(0)) > 0.5"
   ]
  }
 ],
 "metadata": {
  "kernelspec": {
   "display_name": "Python 3 (ipykernel)",
   "language": "python",
   "name": "python3"
  },
  "language_info": {
   "codemirror_mode": {
    "name": "ipython",
    "version": 3
   },
   "file_extension": ".py",
   "mimetype": "text/x-python",
   "name": "python",
   "nbconvert_exporter": "python",
   "pygments_lexer": "ipython3",
   "version": "3.9.17"
  }
 },
 "nbformat": 4,
 "nbformat_minor": 4
}
